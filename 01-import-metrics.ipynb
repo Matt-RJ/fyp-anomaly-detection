{
 "metadata": {
  "language_info": {
   "codemirror_mode": {
    "name": "ipython",
    "version": 3
   },
   "file_extension": ".py",
   "mimetype": "text/x-python",
   "name": "python",
   "nbconvert_exporter": "python",
   "pygments_lexer": "ipython3",
   "version": "3.8.3-final"
  },
  "orig_nbformat": 2,
  "kernelspec": {
   "name": "python3",
   "display_name": "Python 3",
   "language": "python"
  }
 },
 "nbformat": 4,
 "nbformat_minor": 2,
 "cells": [
  {
   "cell_type": "code",
   "execution_count": 15,
   "metadata": {},
   "outputs": [
    {
     "output_type": "stream",
     "name": "stdout",
     "text": [
      "{'metrics': [{'name': 'ServiceALambdaA', 'path': '../ExportedMetrics/ServiceA/LambdaA.json'}]}\n",
      "Saving file data/ServiceALambdaA/Duration.csv\n",
      "Saving file data/ServiceALambdaA/ConcurrentExecutions.csv\n"
     ]
    }
   ],
   "source": [
    "import pandas\n",
    "import numpy as np\n",
    "import os\n",
    "import util\n",
    "import json\n",
    "\n",
    "CONFIG = util.get_config('./config.json')\n",
    "\n",
    "print(CONFIG)\n",
    "\n",
    "for d in ['src', 'data', 'output']: os.makedirs(d, exist_ok=True)\n",
    "\n",
    "# Converts exported CloudWatch JSON metrics into dataframes, storing them in ./data\n",
    "def preprocess(metric_paths):\n",
    "    for metric_path in metric_paths:\n",
    "        dfs = util.json_to_pandas(metric_path['path'])\n",
    "        for metric_name in dfs:\n",
    "            directory = f'src/{metric_path[\"name\"]}'\n",
    "            file_name = f'{metric_name}.csv'\n",
    "            if not os.path.exists(directory):\n",
    "                os.mkdir(directory)\n",
    "            filepath = f'{directory}/{file_name}'\n",
    "            print(f'Saving file {filepath}')\n",
    "            dfs[metric_name].to_csv(filepath, index=False)\n",
    "\n",
    "\n",
    "preprocess(CONFIG['metrics'])"
   ]
  },
  {
   "cell_type": "code",
   "execution_count": null,
   "metadata": {},
   "outputs": [],
   "source": []
  }
 ]
}